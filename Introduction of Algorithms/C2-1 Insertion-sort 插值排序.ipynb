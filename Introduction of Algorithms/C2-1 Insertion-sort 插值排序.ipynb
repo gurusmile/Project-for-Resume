{
 "cells": [
  {
   "cell_type": "markdown",
   "metadata": {},
   "source": [
    "### Insertion - sort\n",
    "***\n",
    "### `Answer`"
   ]
  },
  {
   "cell_type": "code",
   "execution_count": 1,
   "metadata": {},
   "outputs": [
    {
     "name": "stdout",
     "output_type": "stream",
     "text": [
      "[1, 2, 3, 4, 5, 6]\n"
     ]
    }
   ],
   "source": [
    "a = [5,2,4,6,1,3]\n",
    "for j in range(1,len(a)):          # 从1开始，即从第二位数2开始与前面的数比较\n",
    "    key = a[j]\n",
    "    i = j - 1\n",
    "    while i > -1 and a[i] > key:  # 这里i>-1,原因也是python计算位置的差异\n",
    "        a[i+1] = a[i]\n",
    "        i = i - 1\n",
    "    a[i+1] = key\n",
    "print(a)"
   ]
  },
  {
   "cell_type": "markdown",
   "metadata": {},
   "source": [
    "### Exercises 2.1-1\n",
    "***\n",
    "Using Figure 2.2 as a model, illustrate the operation of INSERTION-SORT on the array A = [31, 41, 59, 26, 41, 58].\n",
    "\n",
    "### `Answer`"
   ]
  },
  {
   "cell_type": "code",
   "execution_count": 2,
   "metadata": {},
   "outputs": [
    {
     "name": "stdout",
     "output_type": "stream",
     "text": [
      "[26, 31, 41, 41, 58, 59]\n"
     ]
    }
   ],
   "source": [
    "a = [31, 41, 59, 26, 41, 58]\n",
    "for j in range(1,len(a)):\n",
    "    key = a[j]\n",
    "    i = j-1\n",
    "    while i >= 0 and a[i] > key:\n",
    "        a[i + 1] = a[i]\n",
    "        i = i - 1\n",
    "    a[i+1] = key\n",
    "print(a) "
   ]
  },
  {
   "cell_type": "markdown",
   "metadata": {},
   "source": [
    "### Exercises 2.1-2\n",
    "***\n",
    "Rewrite the INSERTION-SORT procedure to sort into nonincreasing instead of nondecreasing order.\n",
    "\n",
    "### `Answer`"
   ]
  },
  {
   "cell_type": "code",
   "execution_count": 3,
   "metadata": {},
   "outputs": [
    {
     "name": "stdout",
     "output_type": "stream",
     "text": [
      "[6, 5, 4, 3, 2, 1]\n"
     ]
    }
   ],
   "source": [
    "a = [5,2,4,6,1,3]\n",
    "for j in range(1,len(a)):\n",
    "    key = a[j]\n",
    "    i = j - 1\n",
    "    while i>=0 and a[i] < key:\n",
    "        a[i+1] = a[i]\n",
    "        i = i - 1\n",
    "    a[i+1] = key\n",
    "print(a)"
   ]
  },
  {
   "cell_type": "markdown",
   "metadata": {},
   "source": [
    "### Exercises 2.1-3\n",
    "***\n",
    "Consider the searching problem:\n",
    "\n",
    "* **Input**: A sequence of n numbers A = [a1, a2, . . . , an] and a value v.\n",
    "* **Output**: An index i such that v = A[i] or the special value NIL if v does not appear in A.\n",
    "\n",
    "\n",
    "Write pseudocode for **linear search**, which scans through the sequence, looking for v. Using a loop invariant, prove that your algorithm is correct. Make sure that your loop invariant fulfills the three necessary properties.\n",
    "\n",
    "### `Answer`"
   ]
  },
  {
   "cell_type": "code",
   "execution_count": 4,
   "metadata": {},
   "outputs": [
    {
     "name": "stdout",
     "output_type": "stream",
     "text": [
      "NIL\n",
      "7\n"
     ]
    }
   ],
   "source": [
    "def index(a,v):\n",
    "    va = ''\n",
    "    for i in range(0,len(a)):\n",
    "        if a[i] == v:\n",
    "            va = i           \n",
    "        if i == len(a)-1 and va=='':\n",
    "            va = 'NIL'\n",
    "        i = i + 1\n",
    "    print(va)\n",
    "    \n",
    "a = [1,2,3,4,5,6,7,8]\n",
    "v1 = 9\n",
    "v2 = 8    \n",
    "index(a,v1)\n",
    "index(a,v2)"
   ]
  },
  {
   "cell_type": "markdown",
   "metadata": {},
   "source": [
    "### Exercises 2.1-4\n",
    "***\n",
    "Consider the problem of adding two n-bit binary integers, stored in two n-element arrays A and B. The sum of the two integers should be stored in binary form in an (n + 1)-element array C. State the problem formally and write pseudocode for adding the two integers.\n",
    "\n",
    "### `Answer`"
   ]
  },
  {
   "cell_type": "code",
   "execution_count": 5,
   "metadata": {},
   "outputs": [
    {
     "name": "stdout",
     "output_type": "stream",
     "text": [
      "111111110\n"
     ]
    }
   ],
   "source": [
    "def binary_adding(a,b):\n",
    "    a = str(a)\n",
    "    b = str(b)\n",
    "    c = ''\n",
    "    d = 0\n",
    "    for i in range(0,len(a)):\n",
    "        add = int(a[len(a)-i-1]) + int(b[len(a)-i-1]) + d\n",
    "        if add < 2:\n",
    "            c = str(add) + c\n",
    "            d = 0\n",
    "        if add ==3:\n",
    "            c = '1' + c\n",
    "            d = 1\n",
    "        if add ==2:\n",
    "            c = '0' + c\n",
    "            d = 1\n",
    "    print(int('1'+ c))\n",
    "    \n",
    "binary_adding(11111111,11111111)"
   ]
  }
 ],
 "metadata": {
  "kernelspec": {
   "display_name": "Python 3",
   "language": "python",
   "name": "python3"
  },
  "language_info": {
   "codemirror_mode": {
    "name": "ipython",
    "version": 3
   },
   "file_extension": ".py",
   "mimetype": "text/x-python",
   "name": "python",
   "nbconvert_exporter": "python",
   "pygments_lexer": "ipython3",
   "version": "3.7.3"
  }
 },
 "nbformat": 4,
 "nbformat_minor": 2
}
